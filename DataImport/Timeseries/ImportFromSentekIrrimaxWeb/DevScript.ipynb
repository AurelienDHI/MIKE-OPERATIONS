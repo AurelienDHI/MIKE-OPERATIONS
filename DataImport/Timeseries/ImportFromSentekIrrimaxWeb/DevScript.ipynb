{
 "cells": [
  {
   "cell_type": "markdown",
   "metadata": {},
   "source": [
    "# Data Import from Sentex Irrimax Live\n",
    "\n",
    "Sentek Technology ([http://www.sentek.com.au](http://www.sentek.com.au)) is a vendor for probes to measure profiles of soil properties (e.g. moisture content, temperature, salinity,..) in an agricultural context. Measurement data is provided through the vendors Web GUI [https://www.irrimaxlive.com](https://www.irrimaxlive.com).\n",
    "\n",
    "This script downloads data from the irrimax platform into the MO database. \n",
    "\n",
    "The user needs to generate a personal API-key on the irrimax website and provide this in the configuration spreadsheet in MO. Upon execution, all available data from this user is downloaded into MO's Time Series Manager."
   ]
  },
  {
   "cell_type": "code",
   "execution_count": null,
   "metadata": {
    "collapsed": true,
    "run_control": {
     "marked": false
    }
   },
   "outputs": [],
   "source": [
    "## PRAEMAMBLE\n",
    "\n",
    "import sys\n",
    "import os\n",
    "import string\n",
    "import datetime\n",
    "import xml.etree.ElementTree as etree\n",
    "\n",
    "if sys.version_info[0] < 3: \n",
    "    from StringIO import StringIO\n",
    "    import urllib2\n",
    "else:\n",
    "    from io import StringIO\n",
    "    import urllib\n",
    "\n",
    "import clr\n",
    "import System\n",
    "from System import DateTime\n",
    "#clr.AddReference('System.Data')\n",
    "\n",
    "import __builtin__\n",
    "if not hasattr(__builtin__, \"app\"):\n",
    "    sys.path.append(r\"C:\\Program Files (x86)\\DHI\\2017\\MIKE OPERATIONS 7\")\n",
    "    os.chdir(r\"C:\\Program Files (x86)\\DHI\\2017\\MIKE OPERATIONS 7\")\n",
    "    clr.AddReference('DHI.Solutions.Application')\n",
    "    from DHI.Solutions.Application import Application\n",
    "    __builtin__.app = Application()\n",
    "    external_app_start = True\n",
    "else:\n",
    "    external_app_start = False\n",
    "    \n",
    "clr.AddReference('DHI.Solutions.Generic')\n",
    "from DHI.Solutions.Generic import DataSeriesValueType\n"
   ]
  },
  {
   "cell_type": "code",
   "execution_count": null,
   "metadata": {},
   "outputs": [],
   "source": [
    "# REMOVE THIS WHEN TRANSFERRING IN SCRIPT MANAGER   \n",
    "if external_app_start:\n",
    "    connectiondef = 'host=localhost;port=5432;database=Irrimode;dbflavour=PostgreSQL'\n",
    "    #connectiondef = 'host=auper1-vm01;port=5432;database=FMG_MWOP;dbflavour=PostgreSQL'\n",
    "    print(\"connecting to \"+connectiondef)\n",
    "    app.SetConnection(connectiondef)\n",
    "    app.Login('admin', 'dssadmin', 'workspace1')\n",
    "    app.StartUp()"
   ]
  },
  {
   "cell_type": "code",
   "execution_count": null,
   "metadata": {
    "collapsed": true
   },
   "outputs": [],
   "source": [
    "# SCRIPT PARAMETER\n",
    "spreadsheetpath = \"/DataImport/Timeseries/ImportFromSentekIrrimaxWeb/Configuration\""
   ]
  },
  {
   "cell_type": "code",
   "execution_count": null,
   "metadata": {},
   "outputs": [],
   "source": [
    "# get Settings from Spreadsheet\n",
    "print(\"reading settings from {}:\".format(spreadsheetpath))\n",
    "sheetName = \"Configuration\"\n",
    "sheetMgr = app.Modules.Get(\"Spreadsheet Manager\")\n",
    "importSheetConfig = sheetMgr.OpenSpreadsheet(spreadsheetpath)\n",
    "api_key = sheetMgr.GetCellValue(importSheetConfig, sheetName, 2, 1)\n",
    "print(\"\\tusing API Key: \"+api_key)\n",
    "\n",
    "from_time_d = sheetMgr.GetCellValue(importSheetConfig, sheetName, 3, 1)\n",
    "from_time = DateTime(1899,12,30).AddDays(from_time_d)\n",
    "print(\"\\tabsolute import period starts {} \".format(from_time))\n",
    "\n",
    "to_time_d = sheetMgr.GetCellValue(importSheetConfig, sheetName, 4, 1)\n",
    "to_time = DateTime(1899,12,30).AddDays(to_time_d)\n",
    "print(\"\\tabsolute import period ends   {}\".format(to_time))\n",
    "\n",
    "basepath = sheetMgr.GetCellValue(importSheetConfig, sheetName, 5, 1)\n",
    "print(\"\\troot folder for import \"+basepath)\n",
    "\n",
    "relative_to_now = sheetMgr.GetCellValue(importSheetConfig, sheetName, 6, 1)\n",
    "print(\"\\timport interval relative to current time: {}\".format(relative_to_now))\n",
    "\n",
    "relative_interval = sheetMgr.GetCellValue(importSheetConfig, sheetName, 7, 1)\n",
    "print(\"\\trelative import period {} h\".format(relative_interval))\n",
    "\n",
    "\n",
    "if relative_to_now:\n",
    "    from_time = System.DateTime.Now.AddHours(-relative_interval)\n",
    "    to_time = System.DateTime.Now.AddDays(1)\n",
    "    print(\"Importing data for last {} h + 1 day lead time ({} to {}).\".format(relative_interval, from_time, to_time))\n",
    "else:\n",
    "    print(\"Importing all available data between {} and {}\".format(from_time, to_time))"
   ]
  },
  {
   "cell_type": "code",
   "execution_count": null,
   "metadata": {},
   "outputs": [],
   "source": [
    "# get list of loggers from API\n",
    "url_getloggers = \"http://www.irrimaxlive.com/api/?cmd=getloggers&key=\"+api_key\n",
    "print(\"reading \" + url_getloggers)\n",
    "xml_string = urllib2.urlopen(url_getloggers).read()\n",
    "\n",
    "# remove encoded characters\n",
    "printable = set(string.printable)\n",
    "xml_string = filter(lambda x: x in printable, xml_string)\n",
    "\n",
    "# parse string to XML object\n",
    "xml_tree = etree.ElementTree(etree.fromstring(xml_string))"
   ]
  },
  {
   "cell_type": "code",
   "execution_count": null,
   "metadata": {},
   "outputs": [],
   "source": [
    "# print all loggers\n",
    "for logger in xml_tree.iter(\"Logger\"):\n",
    "    print(\"found logger\\t{}\\t{}\\t{}\\t{}\".format(logger.attrib[\"id\"],\n",
    "                                            logger.attrib[\"latitude\"], \n",
    "                                            logger.attrib[\"longitude\"],\n",
    "                                            logger.attrib[\"name\"],\n",
    "                                           ))"
   ]
  },
  {
   "cell_type": "code",
   "execution_count": null,
   "metadata": {},
   "outputs": [],
   "source": [
    "# print all loggers\n",
    "for logger in xml_tree.iter(\"Logger\"):\n",
    "    print(\"found logger {} (id={})\".format(logger.attrib[\"name\"], logger.attrib[\"id\"]))"
   ]
  },
  {
   "cell_type": "code",
   "execution_count": null,
   "metadata": {
    "collapsed": true
   },
   "outputs": [],
   "source": [
    "datetimeformat = \"{:04d}{:02d}{:02d}{:02d}{:02d}{:02d}\"\n",
    "from_str = datetimeformat.format(from_time.Year, \n",
    "                                 from_time.Month, \n",
    "                                 from_time.Day, \n",
    "                                 from_time.Hour,\n",
    "                                 from_time.Minute, \n",
    "                                 from_time.Second)\n",
    "to_str = datetimeformat.format(to_time.Year, \n",
    "                               to_time.Month, \n",
    "                               to_time.Day,\n",
    "                               to_time.Hour,\n",
    "                               to_time.Minute, \n",
    "                               to_time.Second)\n",
    "\n",
    "url_getreadings_byid = \"http://www.irrimaxlive.com/api/?cmd=getreadings&key={}&id={}&from={}&to={}\""
   ]
  },
  {
   "cell_type": "code",
   "execution_count": null,
   "metadata": {
    "collapsed": true
   },
   "outputs": [],
   "source": [
    "def timeseries_exists(path):\n",
    "    tsmgr = app.Modules.Get('Time series Manager')\n",
    "    if tsmgr is None:\n",
    "        raise NameError('Could not load time series manager')\n",
    "\n",
    "    if tsmgr.TimeSeriesList.Fetch(path) is None:\n",
    "        return False\n",
    "    else:\n",
    "        return True"
   ]
  },
  {
   "cell_type": "code",
   "execution_count": null,
   "metadata": {
    "collapsed": true
   },
   "outputs": [],
   "source": [
    "def CreateTimeSeries(timeSeries, unitType, unitVariable, valueType):\n",
    "    \"\"\"\n",
    "    <Script>\n",
    "    <Author>jga/are</Author>\n",
    "    <Description>Create time series</Description>\n",
    "    <Parameters>\n",
    "    <Parameter name=\"timeSeries\" type=\"string\">destination time series name</Parameter>\n",
    "    <Parameter name=\"unitType\" type=\"string\">unit type</Parameter>\n",
    "    <Parameter name=\"unitVariable\" type=\"string\">Variable type</Parameter>\n",
    "    <Parameter name=\"valueType\" type=\"string\">\"Instantaneous\", \"Accumulated\", \"Step Accumulated\" or \"Reverse Mean Step Accumulated\"</Parameter>\n",
    "    </Parameters>\n",
    "    </Script>\n",
    "    \"\"\"\n",
    "\n",
    "    timeSeriesManager = app.Modules.Get('Time series Manager')\n",
    "    if timeSeriesManager is None:\n",
    "        raise NameError('Could not load time series manager')\n",
    "    dataSeries = GetDataSeries(timeSeries)\n",
    "\n",
    "    if dataSeries is None:\n",
    "        dataSeries = timeSeriesManager.TimeSeriesList.CreateNew(timeSeries)\n",
    "        dataSeries.YAxisVariable = unitType\n",
    "\n",
    "        # for Rainfall Depth time series, create as Accumulated, Rainfall Step Accumulated others default to Instantaneous\n",
    "        if valueType == \"Instantaneous\":\n",
    "            dataSeries.ValueType = DataSeriesValueType.Instantaneous\n",
    "        elif valueType == \"Accumulated\":\n",
    "            dataSeries.ValueType = DataSeriesValueType.Accumulated\n",
    "        elif valueType == \"Step Accumulated\":\n",
    "            dataSeries.ValueType = DataSeriesValueType.Step_Accumulated\n",
    "        elif valueType == \"Reverse Mean Step Accumulated\":\n",
    "            dataSeries.ValueType = DataSeriesValueType.Reverse_Mean_Step_Accumulated\n",
    "        elif type(valueType) == DataSeriesValueType:  # if dataseries value type has been provided, assign it\n",
    "            dataSeries.ValueType = valueType\n",
    "        try:\n",
    "            dataSeries.SetYAxisUnit(unitVariable, False)\n",
    "        # robustness againast unit name change between MIKE 2014 -> 2016\n",
    "        except System.Exception as e:\n",
    "            if unitVariable == \"m^3/day\":  # 2014 unit\n",
    "                unitVariable = \"m^3/d\"  # 2016 unit\n",
    "                dataSeries.SetYAxisUnit(unitVariable, False)\n",
    "            elif unitVariable == \"m^3/d\":  # 2016 unit\n",
    "                unitVariable = \"m^3/day\"  # 2014 unit\n",
    "                dataSeries.SetYAxisUnit(unitVariable, False)\n",
    "            else:\n",
    "                raise e  # something else is wrong\n",
    "        timeSeriesManager.TimeSeriesList.Add(dataSeries)\n",
    "    else:\n",
    "        dataSeries.DeleteAll()\n",
    "\n",
    "    dataSeries.ClearData()\n",
    "    del dataSeries\n",
    "\n",
    "    "
   ]
  },
  {
   "cell_type": "code",
   "execution_count": null,
   "metadata": {
    "collapsed": true
   },
   "outputs": [],
   "source": [
    "def timeseries_exists(path):\n",
    "    tsmgr = app.Modules.Get('Time series Manager')\n",
    "    if tsmgr is None:\n",
    "        raise NameError('Could not load time series manager')\n",
    "\n",
    "    if tsmgr.TimeSeriesList.Fetch(path) is None:\n",
    "        return False\n",
    "    else:\n",
    "        return True\n",
    "    "
   ]
  },
  {
   "cell_type": "code",
   "execution_count": null,
   "metadata": {
    "collapsed": true
   },
   "outputs": [],
   "source": [
    "def GetDataSeries(timeSeries):\n",
    "    \"\"\"\n",
    "    <Script>\n",
    "    <Author>admin</Author>\n",
    "    <Description>write python list to time series</Description>\n",
    "    <Parameters>\n",
    "    <Parameter name=\"timeSeries\" type=\"string\">destination time series path</Parameter>\n",
    "    </Parameters>\n",
    "    </Script>\n",
    "    \"\"\"\n",
    "\n",
    "    timeSeriesManager = app.Modules.Get('Time series Manager')\n",
    "    if timeSeriesManager is None:\n",
    "        raise NameError('Could not load time series manager')\n",
    "\n",
    "    dataSeries = timeSeriesManager.TimeSeriesList.Fetch(timeSeries)\n",
    "    return dataSeries"
   ]
  },
  {
   "cell_type": "code",
   "execution_count": null,
   "metadata": {
    "collapsed": true
   },
   "outputs": [],
   "source": [
    "def add_steps_to_ts(plist, ts_path):\n",
    "    tmgr = app.Modules.Get('Time series Manager')\n",
    "    ts = tmgr.TimeSeriesList.Fetch(ts_path)\n",
    "    timestepts = ts.FetchAll()\n",
    "    if(timestepts.Count > 0):\n",
    "        lastTimestep = timestepts[timestepts.Count - 1].XValue\n",
    "    else:\n",
    "        lastTimestep = DateTime.MinValue\n",
    "    count = 0\n",
    "    for x, y in plist:\n",
    "        date = x\n",
    "        if date > lastTimestep:\n",
    "            value = System.Double(y)\n",
    "            step = ts.CreateNew()\n",
    "            step.XValue = date\n",
    "            step.YValue = value\n",
    "            ts.Add(step)\n",
    "    count+=1\n",
    "    tmgr.TimeSeriesList.Update(ts)\n",
    "    "
   ]
  },
  {
   "cell_type": "code",
   "execution_count": null,
   "metadata": {
    "scrolled": false
   },
   "outputs": [],
   "source": [
    "# iterate all loggers:\n",
    "for logger in xml_tree.iter(\"Logger\"):\n",
    "    print(\"logger {} (id={})\".format(logger.attrib[\"name\"], logger.attrib[\"id\"]))\n",
    "    \n",
    "    # download logger data\n",
    "    logger_id = logger.attrib[\"id\"]\n",
    "    url_request = url_getreadings_byid.format(api_key, logger_id , from_str, to_str)\n",
    "    print(\"reading data from \"+url_request)\n",
    "    csv_string = urllib2.urlopen(url_request).read()\n",
    "    \n",
    "    # create dictionary {header name: column number}\n",
    "    headers = StringIO(csv_string).readline().split(\",\")\n",
    "    header_of = {headers[i].split(\"(\")[0]:i for i in range(len(headers))}\n",
    "    \n",
    "    # iterate over sites > probes > sensors\n",
    "    for site in logger.iter(\"Site\"):\n",
    "        print(\"\\tsite {}\".format(site.attrib[\"name\"]))\n",
    "        for probe in site.iter(\"Probe\"):\n",
    "            print(\"\\t\\tprobe {}\".format(probe.attrib[\"name\"]))\n",
    "            for sensor in probe.iter(\"Sensor\"):\n",
    "                print(\"\\t\\t\\tsensor {}: {} ({})\".format(sensor.attrib[\"name\"], \n",
    "                                                        sensor.attrib[\"type\"], \n",
    "                                                        sensor.attrib[\"unit\"]))     \n",
    "                column = header_of[sensor.attrib[\"name\"]]\n",
    "            \n",
    "                # sensor logics   \n",
    "                sensor_variable = None\n",
    "                sensor_unit = None\n",
    "                sensor_factor = 1.\n",
    "                sensor_comment = \"\"\n",
    "\n",
    "                if sensor.attrib[\"type\"] == \"Voltage\":\n",
    "                    sensor_variable = \"Voltage\"\n",
    "                    sensor_comment = sensor.attrib[\"description\"]\n",
    "                    if sensor.attrib[\"unit\"] == \"V\":\n",
    "                        sensor_unit = \"V\"\n",
    "\n",
    "                if sensor.attrib[\"type\"] == \"Soil Water Content\":\n",
    "                    sensor_variable = \"Volumetric Water Content\"\n",
    "                    sensor_comment = \"{} cm\".format(sensor.attrib[\"depth_cm\"])\n",
    "                    if sensor.attrib[\"unit\"] == \"mm\":\n",
    "                        sensor_unit = \"%\"\n",
    "\n",
    "                if sensor.attrib[\"type\"] == \"V.I.C.\":\n",
    "                    sensor_variable = \"Undefined\"\n",
    "                    sensor_comment = \"{} cm\".format(sensor.attrib[\"depth_cm\"])\n",
    "                    if sensor.attrib[\"unit\"] == \"VIC\":\n",
    "                        sensor_unit = \"-\"\n",
    "\n",
    "                if sensor.attrib[\"type\"] == \"Temperature\":\n",
    "                    sensor_variable = \"Temperature\"\n",
    "                    sensor_comment = \"{} cm\".format(sensor.attrib[\"depth_cm\"])\n",
    "                    if sensor.attrib[\"unit\"] == \"C\":\n",
    "                        sensor_unit = \"deg C\"\n",
    "                \n",
    "                if sensor_variable is None:\n",
    "                    print(\"unknown sensor type \"+sensor.attrib[\"type\"])\n",
    "                if sensor_unit is None:\n",
    "                    print(\"unknow sensor unit \"+sensor.attrib[\"unit\"])\n",
    "\n",
    "                if sensor_variable is None or sensor_unit is None:\n",
    "                    print(\"skipped.\")\n",
    "                    continue\n",
    "\n",
    "                # set path of time series\n",
    "                ts_path = basepath+\"/{}/{}/{}/{}({})\".format(logger.attrib[\"name\"],\n",
    "                                            site.attrib[\"name\"],\n",
    "                                            probe.attrib[\"name\"],\n",
    "                                            sensor.attrib[\"name\"],\n",
    "                                            sensor_comment)\n",
    "               \n",
    "\n",
    "                # check if TS exists and create if necessary\n",
    "                if not timeseries_exists(ts_path):\n",
    "                    print(\"\\t\\t\\t\\tCreating Time Series \"+str(ts_path))\n",
    "                    CreateTimeSeries(ts_path, sensor_variable, sensor_unit, \"Instantaneous\")\n",
    "                \n",
    "                # Add new measurements to time series\n",
    "                \n",
    "                # create data list [(DateTime, float)] from column in csv\n",
    "                ts = []\n",
    "                csv = StringIO(csv_string)\n",
    "                csv.readline()  # discard headers\n",
    "                while True:\n",
    "                    line = csv.readline()\n",
    "                    if line == \"\":\n",
    "                        break\n",
    "                    words = line.split(',')\n",
    "\n",
    "                    # parse string to DateTime (via datetime)\n",
    "                    dt = datetime.datetime.strptime(words[0], \"%Y/%m/%d %H:%M:%S\") \n",
    "                    DT = DateTime(dt.year, dt.month, dt.day, dt.hour, dt.minute, dt.second)\n",
    "\n",
    "                    # parse string to float\n",
    "                    ts.append((DT, float(words[column])))\n",
    "                \n",
    "                if len(ts) == 0:\n",
    "                    print(\"\\t\\t\\t\\tNo new measurements found.\")\n",
    "                else:\n",
    "                    print(\"\\t\\t\\t\\tAdding {} measurments to {} \".format(len(ts), ts_path))\n",
    "                    add_steps_to_ts(ts, ts_path)    "
   ]
  }
 ],
 "metadata": {
  "hide_input": false,
  "kernelspec": {
   "display_name": "Python 2.7",
   "language": "python",
   "name": "python_27"
  },
  "language_info": {
   "codemirror_mode": {
    "name": "ipython",
    "version": 2
   },
   "file_extension": ".py",
   "mimetype": "text/x-python",
   "name": "python",
   "nbconvert_exporter": "python",
   "pygments_lexer": "ipython2",
   "version": "2.7.14"
  },
  "toc": {
   "nav_menu": {},
   "number_sections": true,
   "sideBar": true,
   "skip_h1_title": true,
   "toc_cell": false,
   "toc_position": {},
   "toc_section_display": "block",
   "toc_window_display": false
  },
  "varInspector": {
   "cols": {
    "lenName": 16,
    "lenType": 16,
    "lenVar": 40
   },
   "kernels_config": {
    "python": {
     "delete_cmd_postfix": "",
     "delete_cmd_prefix": "del ",
     "library": "var_list.py",
     "varRefreshCmd": "print(var_dic_list())"
    },
    "r": {
     "delete_cmd_postfix": ") ",
     "delete_cmd_prefix": "rm(",
     "library": "var_list.r",
     "varRefreshCmd": "cat(var_dic_list()) "
    }
   },
   "types_to_exclude": [
    "module",
    "function",
    "builtin_function_or_method",
    "instance",
    "_Feature"
   ],
   "window_display": false
  }
 },
 "nbformat": 4,
 "nbformat_minor": 2
}
