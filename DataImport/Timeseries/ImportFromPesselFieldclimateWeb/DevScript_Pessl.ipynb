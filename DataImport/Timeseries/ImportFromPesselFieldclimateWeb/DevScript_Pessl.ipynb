{
 "cells": [
  {
   "cell_type": "markdown",
   "metadata": {},
   "source": [
    "# Data Import from fieldclimate.com (Pessl Weather Stations)\n",
    "\n",
    "Pessl Instruments ([www.pesslinstruments.com](http://www.pesslinstruments.com)) is a vendor for weather stations.  Measurement data is provided through the vendors Web GUI [www.fieldclimate.com](http://www.fieldclimate.com).\n",
    "\n",
    "This script downloads data from the irrimax platform into the MO database through the vendors [REST-API](http://www.fieldclimate.com/api/intro.html).\n",
    "\n",
    "The user needs to provide username and password for the fieldclimate.com platform and provide this in the configuration spreadsheet in MO. Upon execution, all available data from this user is downloaded into MO's Time Series Manager."
   ]
  },
  {
   "cell_type": "code",
   "execution_count": null,
   "metadata": {
    "ExecuteTime": {
     "end_time": "2018-06-19T08:59:05.510000Z",
     "start_time": "2018-06-19T08:59:04.417000Z"
    },
    "collapsed": true
   },
   "outputs": [],
   "source": [
    "## PRAEMAMBLE\n",
    "\n",
    "import sys\n",
    "import os\n",
    "import string\n",
    "import datetime\n",
    "import xml.etree.ElementTree as etree\n",
    "\n",
    "if sys.version_info[0] < 3: \n",
    "    from StringIO import StringIO\n",
    "    import urllib2\n",
    "else:\n",
    "    from io import StringIO\n",
    "    import urllib\n",
    "\n",
    "import clr\n",
    "import System\n",
    "from System import DateTime\n",
    "#clr.AddReference('System.Data')\n",
    "\n",
    "import __builtin__\n",
    "if not hasattr(__builtin__, \"app\"):\n",
    "    sys.path.append(r\"C:\\Program Files (x86)\\DHI\\2017\\MIKE OPERATIONS 7\")\n",
    "    os.chdir(r\"C:\\Program Files (x86)\\DHI\\2017\\MIKE OPERATIONS 7\")\n",
    "    clr.AddReference('DHI.Solutions.Application')\n",
    "    from DHI.Solutions.Application import Application\n",
    "    __builtin__.app = Application()\n",
    "    external_app_start = True\n",
    "else:\n",
    "    external_app_start = False\n",
    "    \n",
    "clr.AddReference('DHI.Solutions.Generic')\n",
    "from DHI.Solutions.Generic import DataSeriesValueType"
   ]
  },
  {
   "cell_type": "code",
   "execution_count": null,
   "metadata": {
    "ExecuteTime": {
     "end_time": "2018-06-19T08:59:05.522000Z",
     "start_time": "2018-06-19T08:59:05.516000Z"
    },
    "collapsed": true
   },
   "outputs": [],
   "source": [
    "import sys\n",
    "import urllib2  # python 2.7, use urllib for Python 3\n",
    "import json"
   ]
  },
  {
   "cell_type": "code",
   "execution_count": null,
   "metadata": {
    "ExecuteTime": {
     "end_time": "2018-06-19T08:59:10.265000Z",
     "start_time": "2018-06-19T08:59:05.528000Z"
    }
   },
   "outputs": [],
   "source": [
    "# REMOVE THIS WHEN TRANSFERRING IN SCRIPT MANAGER   \n",
    "if external_app_start:\n",
    "    connectiondef = 'host=localhost;port=5432;database=Irrimode;dbflavour=PostgreSQL'\n",
    "    #connectiondef = 'host=auper1-vm01;port=5432;database=FMG_MWOP;dbflavour=PostgreSQL'\n",
    "    print(\"connecting to \"+connectiondef)\n",
    "    app.SetConnection(connectiondef)\n",
    "    app.Login('admin', 'dssadmin', 'workspace1')\n",
    "    app.StartUp()"
   ]
  },
  {
   "cell_type": "code",
   "execution_count": null,
   "metadata": {
    "ExecuteTime": {
     "end_time": "2018-06-19T08:59:10.289000Z",
     "start_time": "2018-06-19T08:59:10.284000Z"
    },
    "collapsed": true
   },
   "outputs": [],
   "source": [
    "# SCRIPT PARAMETER\n",
    "spreadsheetpath = \"/DataImport/Timeseries/ImportFromPesslFieldclimateWeb/Configuration\""
   ]
  },
  {
   "cell_type": "code",
   "execution_count": null,
   "metadata": {
    "ExecuteTime": {
     "end_time": "2018-06-19T08:59:11.362000Z",
     "start_time": "2018-06-19T08:59:10.296000Z"
    }
   },
   "outputs": [],
   "source": [
    "# get Settings from Spreadsheet\n",
    "print(\"reading settings from {}:\".format(spreadsheetpath))\n",
    "sheetName = \"Configuration\"\n",
    "sheetMgr = app.Modules.Get(\"Spreadsheet Manager\")\n",
    "importSheetConfig = sheetMgr.OpenSpreadsheet(spreadsheetpath)\n",
    "\n",
    "# read settings\n",
    "\n",
    "auth_user = sheetMgr.GetCellValue(importSheetConfig, sheetName, 2, 1)\n",
    "if auth_user is None:\n",
    "    print(\"\\tuser name:\\tNOT SET!\")\n",
    "else:\n",
    "    print(\"\\tuser name:\\t{}\".format(auth_user))\n",
    "\n",
    "auth_passw = sheetMgr.GetCellValue(importSheetConfig, sheetName, 3, 1)\n",
    "if auth_passw is None:\n",
    "    print(\"\\tpassword: NOT SET!\")\n",
    "else:\n",
    "    print(\"\\tpassword:\\t\"+\"*\"*len(auth_passw))\n",
    "\n",
    "basepath = sheetMgr.GetCellValue(importSheetConfig, sheetName, 4, 1)\n",
    "print(\"\\troot folder:\\t \"+basepath)\n",
    "\n",
    "relative_to_now = sheetMgr.GetCellValue(importSheetConfig, sheetName, 5, 1)\n",
    "print(\"\\timport interval relative to current time: {}\".format(relative_to_now))\n",
    "\n",
    "from_time_d = sheetMgr.GetCellValue(importSheetConfig, sheetName, 6, 1)\n",
    "from_time = DateTime(1899,12,30).AddDays(from_time_d)\n",
    "print(\"\\tabsolute import period starts {} \".format(from_time))\n",
    "\n",
    "to_time_d = sheetMgr.GetCellValue(importSheetConfig, sheetName, 7, 1)\n",
    "to_time = DateTime(1899,12,30).AddDays(to_time_d)\n",
    "print(\"\\tabsolute import period ends   {}\".format(to_time))\n",
    "\n",
    "relative_interval = sheetMgr.GetCellValue(importSheetConfig, sheetName, 8, 1)\n",
    "print(\"\\trelative import period {} h\".format(relative_interval))\n",
    "\n",
    "max_rows = int(sheetMgr.GetCellValue(importSheetConfig, sheetName, 9, 1))\n",
    "print(\"\\tmax rows to read: {}\".format(max_rows))\n",
    "\n",
    "if relative_to_now:\n",
    "    from_time = System.DateTime.Now.AddHours(-relative_interval)\n",
    "    to_time = System.DateTime.Now.AddDays(1)\n",
    "    print(\"Importing data for last {} h + 1 day lead time ({} to {}).\".format(relative_interval, from_time, to_time))\n",
    "else:\n",
    "    print(\"Importing all available data between {} and {}\".format(from_time, to_time))"
   ]
  },
  {
   "cell_type": "code",
   "execution_count": null,
   "metadata": {
    "ExecuteTime": {
     "end_time": "2018-06-19T08:59:11.376000Z",
     "start_time": "2018-06-19T08:59:11.366000Z"
    },
    "collapsed": true
   },
   "outputs": [],
   "source": [
    "def api_request(command, parameters=None):\n",
    "    url_base = \"http://www.fieldclimate.com/api/\"\n",
    "    str_auth = \"user_name={}&user_passw={}\".format(auth_user, auth_passw)\n",
    "    str_request = url_base+command+\"?\"+str_auth\n",
    "    if parameters is not None:\n",
    "        str_request += \"&\"+\"&\".join(parameters)\n",
    "    \n",
    "    print(\"reading \" + str_request)\n",
    "    try:\n",
    "        json_str = urllib2.urlopen(str_request).read()\n",
    "        json_dict = json.loads(json_str)\n",
    "        return json_dict\n",
    "    except urllib2.HTTPError as e:\n",
    "        print(\"HTTPError reading \"+str_request)\n",
    "        raise e"
   ]
  },
  {
   "cell_type": "code",
   "execution_count": null,
   "metadata": {
    "ExecuteTime": {
     "end_time": "2018-06-19T08:59:11.416000Z",
     "start_time": "2018-06-19T08:59:11.382000Z"
    },
    "collapsed": true
   },
   "outputs": [],
   "source": [
    "def api_request2(command, parameters=[]):\n",
    "    url_base = \"http://www.fieldclimate.com/api/index.php?\"\n",
    "    parameters.append(\"action=\"+command)\n",
    "    parameters.append(\"user_name=\"+auth_user)\n",
    "    parameters.append(\"user_passw=\"+auth_passw)\n",
    "    str_request = url_base + \"&\".join(parameters)\n",
    "    print(str_request)    \n",
    "\n",
    "    try:\n",
    "        json_str = urllib2.urlopen(str_request).read()\n",
    "        json_dict = json.loads(json_str)\n",
    "        return json_dict\n",
    "    except urllib2.HTTPError as e:\n",
    "        print(\"HTTPError reading \"+str_request)\n",
    "        raise e  "
   ]
  },
  {
   "cell_type": "code",
   "execution_count": null,
   "metadata": {
    "ExecuteTime": {
     "end_time": "2018-06-19T08:59:11.436000Z",
     "start_time": "2018-06-19T08:59:11.421000Z"
    },
    "collapsed": true
   },
   "outputs": [],
   "source": [
    "def timeseries_exists(path):\n",
    "    tsmgr = app.Modules.Get('Time series Manager')\n",
    "    if tsmgr is None:\n",
    "        raise NameError('Could not load time series manager')\n",
    "\n",
    "    if tsmgr.TimeSeriesList.Fetch(path) is None:\n",
    "        return False\n",
    "    else:\n",
    "        return True\n",
    "    "
   ]
  },
  {
   "cell_type": "code",
   "execution_count": null,
   "metadata": {
    "ExecuteTime": {
     "end_time": "2018-06-19T08:59:11.455000Z",
     "start_time": "2018-06-19T08:59:11.441000Z"
    },
    "collapsed": true
   },
   "outputs": [],
   "source": [
    "def GetDataSeries(timeSeries):\n",
    "    \"\"\"\n",
    "    <Script>\n",
    "    <Author>admin</Author>\n",
    "    <Description>write python list to time series</Description>\n",
    "    <Parameters>\n",
    "    <Parameter name=\"timeSeries\" type=\"string\">destination time series path</Parameter>\n",
    "    </Parameters>\n",
    "    </Script>\n",
    "    \"\"\"\n",
    "\n",
    "    timeSeriesManager = app.Modules.Get('Time series Manager')\n",
    "    if timeSeriesManager is None:\n",
    "        raise NameError('Could not load time series manager')\n",
    "\n",
    "    dataSeries = timeSeriesManager.TimeSeriesList.Fetch(timeSeries)\n",
    "    return dataSeries"
   ]
  },
  {
   "cell_type": "code",
   "execution_count": null,
   "metadata": {
    "ExecuteTime": {
     "end_time": "2018-06-19T08:59:11.480000Z",
     "start_time": "2018-06-19T08:59:11.462000Z"
    },
    "collapsed": true
   },
   "outputs": [],
   "source": [
    "def add_steps_to_ts(plist, ts_path):\n",
    "    tmgr = app.Modules.Get('Time series Manager')\n",
    "    ts = tmgr.TimeSeriesList.Fetch(ts_path)\n",
    "    timestepts = ts.FetchAll()\n",
    "    if(timestepts.Count > 0):\n",
    "        lastTimestep = timestepts[timestepts.Count - 1].XValue\n",
    "    else:\n",
    "        lastTimestep = DateTime.MinValue\n",
    "    count = 0\n",
    "    for x, y in plist:\n",
    "        date = x\n",
    "        if date > lastTimestep:\n",
    "            value = System.Double(y)\n",
    "            step = ts.CreateNew()\n",
    "            step.XValue = date\n",
    "            step.YValue = value\n",
    "            ts.Add(step)\n",
    "    count+=1\n",
    "    tmgr.TimeSeriesList.Update(ts)\n",
    "    "
   ]
  },
  {
   "cell_type": "code",
   "execution_count": null,
   "metadata": {
    "ExecuteTime": {
     "end_time": "2018-06-19T08:59:11.516000Z",
     "start_time": "2018-06-19T08:59:11.486000Z"
    },
    "collapsed": true
   },
   "outputs": [],
   "source": [
    "def CreateTimeSeries(timeSeries, unitType, unitVariable, valueType):\n",
    "    \"\"\"\n",
    "    <Script>\n",
    "    <Author>jga/are</Author>\n",
    "    <Description>Create time series</Description>\n",
    "    <Parameters>\n",
    "    <Parameter name=\"timeSeries\" type=\"string\">destination time series name</Parameter>\n",
    "    <Parameter name=\"unitType\" type=\"string\">unit type</Parameter>\n",
    "    <Parameter name=\"unitVariable\" type=\"string\">Variable type</Parameter>\n",
    "    <Parameter name=\"valueType\" type=\"string\">\"Instantaneous\", \"Accumulated\", \"Step Accumulated\" or \"Reverse Mean Step Accumulated\"</Parameter>\n",
    "    </Parameters>\n",
    "    </Script>\n",
    "    \"\"\"\n",
    "\n",
    "    timeSeriesManager = app.Modules.Get('Time series Manager')\n",
    "    if timeSeriesManager is None:\n",
    "        raise NameError('Could not load time series manager')\n",
    "    dataSeries = GetDataSeries(timeSeries)\n",
    "\n",
    "    if dataSeries is None:\n",
    "        dataSeries = timeSeriesManager.TimeSeriesList.CreateNew(timeSeries)\n",
    "        dataSeries.YAxisVariable = unitType\n",
    "\n",
    "        # for Rainfall Depth time series, create as Accumulated, Rainfall Step Accumulated others default to Instantaneous\n",
    "        if valueType == \"Instantaneous\":\n",
    "            dataSeries.ValueType = DataSeriesValueType.Instantaneous\n",
    "        elif valueType == \"Accumulated\":\n",
    "            dataSeries.ValueType = DataSeriesValueType.Accumulated\n",
    "        elif valueType == \"Step Accumulated\":\n",
    "            dataSeries.ValueType = DataSeriesValueType.Step_Accumulated\n",
    "        elif valueType == \"Reverse Mean Step Accumulated\":\n",
    "            dataSeries.ValueType = DataSeriesValueType.Reverse_Mean_Step_Accumulated\n",
    "        elif type(valueType) == DataSeriesValueType:  # if dataseries value type has been provided, assign it\n",
    "            dataSeries.ValueType = valueType\n",
    "        try:\n",
    "            dataSeries.SetYAxisUnit(unitVariable, False)\n",
    "        # robustness againast unit name change between MIKE 2014 -> 2016\n",
    "        except System.Exception as e:\n",
    "            if unitVariable == \"m^3/day\":  # 2014 unit\n",
    "                unitVariable = \"m^3/d\"  # 2016 unit\n",
    "                dataSeries.SetYAxisUnit(unitVariable, False)\n",
    "            elif unitVariable == \"m^3/d\":  # 2016 unit\n",
    "                unitVariable = \"m^3/day\"  # 2014 unit\n",
    "                dataSeries.SetYAxisUnit(unitVariable, False)\n",
    "            else:\n",
    "                raise e  # something else is wrong\n",
    "        timeSeriesManager.TimeSeriesList.Add(dataSeries)\n",
    "    else:\n",
    "        dataSeries.DeleteAll()\n",
    "\n",
    "    dataSeries.ClearData()\n",
    "    del dataSeries\n"
   ]
  },
  {
   "cell_type": "code",
   "execution_count": null,
   "metadata": {
    "ExecuteTime": {
     "end_time": "2018-06-19T08:59:11.549000Z",
     "start_time": "2018-06-19T08:59:11.523000Z"
    }
   },
   "outputs": [],
   "source": [
    "def to_datetime(DT):\n",
    "    return datetime.datetime(from_time.Year, \n",
    "              from_time.Month, \n",
    "              from_time.Day, \n",
    "              from_time.Hour, \n",
    "              from_time.Minute, \n",
    "              from_time.Second)\n",
    "    \n",
    "to_datetime(from_time)"
   ]
  },
  {
   "cell_type": "markdown",
   "metadata": {},
   "source": [
    "## Dev Script"
   ]
  },
  {
   "cell_type": "code",
   "execution_count": null,
   "metadata": {
    "ExecuteTime": {
     "end_time": "2018-06-19T09:21:43.759000Z",
     "start_time": "2018-06-19T09:09:01.631000Z"
    },
    "scrolled": false
   },
   "outputs": [],
   "source": [
    "# iterate over list of weather stations\n",
    "weather_stations = api_request(\"CIDIStationList/GetStations\")['ReturnDataSet']\n",
    "print(\"found {} weather stations:\".format(len(weather_stations)))\n",
    "for station_id in weather_stations:\n",
    "\n",
    "    # get information on station and its sensors\n",
    "    station_name = weather_stations[station_id][\"custom_name\"]\n",
    "    print(\"\\t{} ({})\".format(station_id, station_name))\n",
    "    \n",
    "    station_sensors = api_request(\"CIDIStationSensors/Get\",[\"station_name=\"+station_id])['ReturnDataSet']  # station name: f_name / serial number\n",
    "    print(\"\\tfound {} sensors:\".format(len(station_sensors)))\n",
    "    print(\"\\ttchannel\\tcode\\tunit\\tdescription\")\n",
    "    for sensor_id in range(len(station_sensors)):\n",
    "        sensor_info = station_sensors[sensor_id]\n",
    "        \n",
    "        sensor_channel = sensor_info[\"f_sensor_ch\"]\n",
    "        sensor_code = sensor_info[\"f_sensor_code\"]\n",
    "        sensor_name = sensor_info[\"f_name\"]\n",
    "        sensor_name_user = sensor_info[\"f_sensor_user_name\"]\n",
    "        sensor_unit = sensor_info[\"f_unit\"]\n",
    "\n",
    "        print(u\"\\t{}\\t{}\\t[{}]\\t{} ('{}')\".format(sensor_channel, sensor_code, sensor_unit, sensor_name, sensor_name_user))\n",
    "\n",
    "        sensor_by_code = { s[\"f_sensor_code\"] : s for s in station_sensors}\n",
    "\n",
    "    # read out stations measurment data\n",
    "    response = api_request2(\"CIDIStationData3_GetFromDate\",[\"station_name=\"+station_id, \n",
    "                                                            \"row_count=\"+str(max_rows),\n",
    "                                                            \"dt_from=\"+to_datetime(from_time).strftime(\"%Y-%m-%dT%H:%M:%S\")]) \n",
    "    \n",
    "                                                            \n",
    "    for reading in response[\"ReturnDataSet\"]:\n",
    "\n",
    "\n",
    "        reading_time = reading[\"f_date\"]\n",
    "        sys.stdout.write(\"\\nReading Measurements for {}:\".format(reading_time))\n",
    "        # parse string to DateTime (via datetime)\n",
    "        dt = datetime.datetime.strptime(reading_time, \"%Y-%m-%d %H:%M:%S\") \n",
    "        DT = DateTime(dt.year, dt.month, dt.day, dt.hour, dt.minute, dt.second)\n",
    "\n",
    "        for sensor in reading.keys():\n",
    "\n",
    "            # skip if not a sensor:\n",
    "            if not sensor.split(\"_\")[0] == \"sens\":\n",
    "                continue\n",
    "\n",
    "            _, sensor_type, sensor_channel, sensor_code = sensor.split(\"_\")\n",
    "            sensor_reading = reading[sensor]\n",
    "\n",
    "            # skip min/max values or if no reading was taken\n",
    "            if sensor_type in [\"min\",\"max\"]:\n",
    "                continue\n",
    "            if sensor_reading is None:\n",
    "                continue\n",
    "\n",
    "            # sensor logics        \n",
    "            sensor_variable = None\n",
    "            sensor_unit = None\n",
    "            sensor_factor = 1.\n",
    "            sensor_comment = \"\"\n",
    "            value_type = None\n",
    "\n",
    "\n",
    "            if sensor_code==\"0\": # air temperature\n",
    "                sensor_variable = \"Temperature\"\n",
    "                sensor_unit = \"deg C\"\n",
    "                if sensor_type == \"last\":\n",
    "                    value_type = \"Instantaneous\"\n",
    "                if sensor_type == \"aver\":\n",
    "                    value_type = \"Reverse Mean Step Accumulated\"  # TODO: check if this makes sense in EUM\n",
    "                  \n",
    "                \n",
    "            if sensor_code==\"5\": # Wind Speed\n",
    "                sensor_variable = \"Wind speed\"\n",
    "                sensor_unit = \"m/s\"\n",
    "                if sensor_type == \"last\":\n",
    "                    value_type = \"Instantaneous\"\n",
    "                if sensor_type == \"aver\":\n",
    "                    value_type = \"Reverse Mean Step Accumulated\"  # TODO: check if this makes sense in EUM\n",
    "                \n",
    "\n",
    "            if sensor_code==\"6\": # precipitation\n",
    "                sensor_variable = \"Rainfall\"\n",
    "                sensor_unit = \"mm\"\n",
    "                if sensor_type == \"sum\":\n",
    "                    value_type = \"Reverse Mean Step Accumulated\"  # TODO: check if this makes sense in EUM\n",
    "                 \n",
    "            if sensor_code==\"7\": # Battery Voltage\n",
    "                sensor_variable = \"Voltage\"\n",
    "                sensor_unit = \"V\"\n",
    "                sensor_factor = 1/1000.\n",
    "                if sensor_type == \"last\":\n",
    "                    value_type = \"Instantaneous\"\n",
    "                if sensor_type == \"aver\":\n",
    "                    value_type = \"Reverse Mean Step Accumulated\"  # TODO: check if this makes sense in EUM\n",
    "                    \n",
    "            if sensor_code==\"21\": # Dew Point\n",
    "                sensor_variable = \"Temperature\"\n",
    "                sensor_unit = \"deg C\"\n",
    "                if sensor_type == \"last\":\n",
    "                    value_type = \"Instantaneous\"\n",
    "                if sensor_type == \"aver\":\n",
    "                    value_type = \"Reverse Mean Step Accumulated\"  # TODO: check if this makes sense in EUM\n",
    "                    \n",
    "            if sensor_code==\"1201\": # ET_0\n",
    "                sensor_variable = \"Evaporation\"\n",
    "                sensor_unit = \"mm\"\n",
    "                if sensor_type == \"aver\":\n",
    "                    value_type = \"Reverse Mean Step Accumulated\"  # TODO: check if this makes sense in EUM\n",
    "            \n",
    "            \n",
    "            \n",
    "  \n",
    "            # TODO:\n",
    "            #f_sensor_code\tf_name\tf_sensor_user_name\tf_unit\n",
    "            #4\tLeaf Wetness\tLeaf Wetness\tMin\n",
    "            #16\tSoil temperature\tBodentemperatur\tC\n",
    "            #25\tVPD\tVPD\tkPa\n",
    "            #30\tSolar Panel\tSolarpanel\tmV\n",
    "            #43\tWater meter 1L - Differential\tWater Meter 1L - Differential\tL\n",
    "            #506\tHC Air temperature\tHC Lufttemperatur\tC\n",
    "            #506\tHC Air temperature\tHC Air temperature\tC\n",
    "            #507\tHC Relative humidity\tHC Luftfeuchte\t%\n",
    "            #507\tHC Relative humidity\tHC Relative humidity\t%\n",
    "            #508\tHC Serial Number\tHC Serial Number\t \n",
    "            #600\tSolar radiation\tSolar radiation Dgt\tW/mm\n",
    "            \n",
    "            # set path of time series\n",
    "            ts_path = basepath + \"/{} ({})/ch{:04d} {}\".format(station_id, \n",
    "                                                           station_name,\n",
    "                                                           int(sensor_by_code[sensor_code][\"f_sensor_ch\"]),\n",
    "                                                           sensor_by_code[sensor_code][\"f_name\"])\n",
    "\n",
    "            desc = \"ch{:04d} {}\".format(int(sensor_by_code[sensor_code][\"f_sensor_ch\"]),\n",
    "                                                           sensor_by_code[sensor_code][\"f_name\"])\n",
    "            \n",
    "            if sensor_variable is None or sensor_unit is None or value_type is None:\n",
    "                #print(\"\\t\\t\\t\\tskipping {}\".format(desc))\n",
    "                continue\n",
    "\n",
    "             # check if TS exists and create if necessary\n",
    "            if not timeseries_exists(ts_path):\n",
    "                print(\"\\nCreating Time Series \"+str(ts_path))\n",
    "                _ = CreateTimeSeries(ts_path, sensor_variable, sensor_unit, value_type)\n",
    "\n",
    "            sys.stdout.write(\" ch{:04d}\".format(int(sensor_by_code[sensor_code][\"f_sensor_ch\"])))   \n",
    "            #print(\"\\t\\t\\t\\tAdding   {}\".format(desc))\n",
    "            add_steps_to_ts([(DT, float(sensor_reading)*sensor_factor)], ts_path)    "
   ]
  },
  {
   "cell_type": "code",
   "execution_count": null,
   "metadata": {
    "collapsed": true
   },
   "outputs": [],
   "source": []
  }
 ],
 "metadata": {
  "hide_input": false,
  "kernelspec": {
   "display_name": "Python 2.7",
   "language": "python",
   "name": "python_27"
  },
  "language_info": {
   "codemirror_mode": {
    "name": "ipython",
    "version": 2
   },
   "file_extension": ".py",
   "mimetype": "text/x-python",
   "name": "python",
   "nbconvert_exporter": "python",
   "pygments_lexer": "ipython2",
   "version": "2.7.14"
  },
  "toc": {
   "nav_menu": {},
   "number_sections": true,
   "sideBar": true,
   "skip_h1_title": true,
   "toc_cell": false,
   "toc_position": {},
   "toc_section_display": "block",
   "toc_window_display": false
  },
  "varInspector": {
   "cols": {
    "lenName": 16,
    "lenType": 16,
    "lenVar": 40
   },
   "kernels_config": {
    "python": {
     "delete_cmd_postfix": "",
     "delete_cmd_prefix": "del ",
     "library": "var_list.py",
     "varRefreshCmd": "print(var_dic_list())"
    },
    "r": {
     "delete_cmd_postfix": ") ",
     "delete_cmd_prefix": "rm(",
     "library": "var_list.r",
     "varRefreshCmd": "cat(var_dic_list()) "
    }
   },
   "types_to_exclude": [
    "module",
    "function",
    "builtin_function_or_method",
    "instance",
    "_Feature"
   ],
   "window_display": false
  }
 },
 "nbformat": 4,
 "nbformat_minor": 2
}
